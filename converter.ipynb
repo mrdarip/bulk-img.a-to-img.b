{
 "cells": [
  {
   "cell_type": "markdown",
   "metadata": {},
   "source": [
    "# Img.a to img.b"
   ]
  },
  {
   "cell_type": "markdown",
   "metadata": {},
   "source": [
    "## Setup"
   ]
  },
  {
   "cell_type": "code",
   "execution_count": null,
   "metadata": {},
   "outputs": [],
   "source": [
    "!mkdir \"input\"\n",
    "!mkdir \"output\"\n",
    "!apt install imagemagick"
   ]
  },
  {
   "cell_type": "markdown",
   "metadata": {},
   "source": [
    "## Converting"
   ]
  },
  {
   "cell_type": "code",
   "execution_count": null,
   "metadata": {},
   "outputs": [],
   "source": [
    "import os\n",
    "\n",
    "input_folder = \"inputest\"  # @param {type:\"string\"}\n",
    "output_folder = \"output\"  # @param {type:\"string\"}\n",
    "format = \"webp\" # @param {type:\"string\"}\n",
    "max_side_res = \"2048\" # @param {type:\"string\"}\n",
    "\n",
    "#os.system(f\"unzip {input_folder}/input.zip -d {input_folder}\")\n",
    "\n",
    "def convert_and_copy(input_folder, output_folder, format):\n",
    "    for root, dirs, files in os.walk(input_folder):\n",
    "        # Create corresponding directories in the output folder\n",
    "        for dir in dirs:\n",
    "            dir_path = os.path.join(root, dir)\n",
    "            relative_path = os.path.relpath(dir_path, input_folder)\n",
    "            output_dir_path = os.path.join(output_folder, relative_path)\n",
    "            if not os.path.exists(output_dir_path):\n",
    "                os.makedirs(output_dir_path)\n",
    "        for file in files:\n",
    "            file_path = os.path.join(root, file)\n",
    "            relative_path = os.path.relpath(file_path, input_folder)\n",
    "            output_file_path = os.path.join(output_folder, relative_path)\n",
    "\n",
    "            print(f\"Converting {file_path} to {output_file_path}\")\n",
    "            os.system(f\"convert \\\"{file_path}\\\" -resize {max_side_res}x{max_side_res}\\> \\\"{file_path}.{format}\\\"\")\n",
    "            os.system(f\"mv \\\"{file_path}.{format}\\\" \\\"{output_folder}/\\\"\")\n",
    "        \n",
    "convert_and_copy(input_folder, output_folder, format)\n",
    "\n",
    "os.system(f\"zip -r {output_folder}.zip {output_folder}\")"
   ]
  }
 ],
 "metadata": {
  "kernelspec": {
   "display_name": "Python 3",
   "language": "python",
   "name": "python3"
  },
  "language_info": {
   "codemirror_mode": {
    "name": "ipython",
    "version": 3
   },
   "file_extension": ".py",
   "mimetype": "text/x-python",
   "name": "python",
   "nbconvert_exporter": "python",
   "pygments_lexer": "ipython3",
   "version": "3.12.3"
  }
 },
 "nbformat": 4,
 "nbformat_minor": 2
}
